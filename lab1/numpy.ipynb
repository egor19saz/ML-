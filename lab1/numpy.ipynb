{
  "cells": [
    {
      "cell_type": "markdown",
      "metadata": {
        "id": "vC84e9kzyxPy"
      },
      "source": [
        "<h1>Импорт библиотек"
      ]
    },
    {
      "cell_type": "code",
      "execution_count": 3,
      "metadata": {
        "id": "cgKeNegmQG5S"
      },
      "outputs": [],
      "source": [
        "import numpy as np\n",
        "import matplotlib.pyplot as plt"
      ]
    },
    {
      "cell_type": "markdown",
      "metadata": {
        "id": "qFM9uVU2x4Ls"
      },
      "source": [
        "<h1>Задача 1. Дан набор из $p$ матриц размерностью $(n, n)$ и $p$ векторов размерностью $(n, 1)$, найти сумму произведений матриц на векторы. Написать тесты для кода"
      ]
    },
    {
      "cell_type": "code",
      "execution_count": 14,
      "metadata": {
        "id": "IAbUvEiYyWFF"
      },
      "outputs": [],
      "source": [
        "def sum_prod(X, V):\n",
        "\n",
        "    total_sum = 0\n",
        "    for i in range(len(X)):\n",
        "        total_sum += np.dot(X[i], V[i])\n",
        "    return total_sum\n",
        "\n",
        "def test_sum_prod():\n",
        "    X1 = np.array([[1, 2], [3, 4]])\n",
        "    V1 = np.array([[5], [6]])\n",
        "\n",
        "    X2 = np.array([[2, 0], [0, 2]])\n",
        "    V2 = np.array([[2], [3]])\n",
        "\n",
        "    X3 = np.array([[1, 1], [1, 1]])\n",
        "    V3 = np.array([[1], [2]])\n",
        "    \n",
        "    assert sum_prod([X1, X2, X3], [V1, V2, V3]) == 67\n",
        "    assert sum_prod([], []) == 0\n",
        "    assert sum_prod([np.array([])], [np.array([])]) == 0\n",
        "    assert sum_prod([np.array([[2]])], [np.array([[3]])]) == 6"
      ]
    },
    {
      "cell_type": "markdown",
      "metadata": {
        "id": "TKwPG4fIy2w4"
      },
      "source": [
        "<h1>Задача 2. Дана матрица M, напишите функцию, которая бинаризует матрицу по некоторому threshold (то есть, все значения большие threshold становятся равными 1, иначе 0). Напишите тесты для кода"
      ]
    },
    {
      "cell_type": "code",
      "execution_count": 13,
      "metadata": {
        "id": "KQDNMgsjRNH7"
      },
      "outputs": [],
      "source": [
        "def binarize(M, threshold=0.5):\n",
        "     return np.where(M >= threshold, 1, 0)\n",
        "\n",
        "def test_binarize():\n",
        "\n",
        "    M1 = np.array([[0.1, 0.6], [0.7, 0.3]])\n",
        "    assert np.array_equal(binarize(M1), np.array([[0, 1], [1, 0]]))\n",
        "\n",
        "    M2 = np.array([[0.1, 0.6], [0.7, 0.3]])\n",
        "    assert np.array_equal(binarize(M2, 0.3), np.array([[0, 1], [1, 1]]))\n",
        "    assert np.array_equal(binarize(np.array([])), np.array([]))\n",
        "\n",
        "    M3 = np.array([[-0.1, -0.6], [0.7, -0.3]])\n",
        "    assert np.array_equal(binarize(M3, 0), np.array([[0, 0], [1, 0]]))\n",
        "\n",
        "    assert np.array_equal(binarize(np.array([[0.6]])), np.array([[1]]))"
      ]
    },
    {
      "cell_type": "markdown",
      "metadata": {
        "id": "IY5L-h-7zWhN"
      },
      "source": [
        "<h1>Задача 3. Напишите функцию, которая возвращает уникальные элементы из каждой строки матрицы. Напишите такую же функцию, но для столбцов. Напишите тесты для кода"
      ]
    },
    {
      "cell_type": "code",
      "execution_count": 12,
      "metadata": {
        "id": "-8dEZhR0SBC-"
      },
      "outputs": [],
      "source": [
        "def unique_rows(mat):\n",
        "    \n",
        "    return [np.unique(row) for row in mat]\n",
        "\n",
        "def unique_columns(mat):\n",
        "    \n",
        "    return [np.unique(col) for col in mat.T]\n",
        "\n",
        "def test_unique_rows():\n",
        "    mat1 = np.array([[1, 2, 3], [4, 5, 6], [1, 2, 3]])\n",
        "    assert np.array_equal(unique_rows(mat1), [np.array([1, 2, 3]), np.array([4, 5, 6]), np.array([1, 2, 3])])\n",
        "    mat2 = np.array([])\n",
        "    assert np.array_equal(unique_rows(mat2), [])\n",
        "    mat3 = np.array([[1, 2, 3]])\n",
        "    assert np.array_equal(unique_rows(mat3), [np.array([1, 2, 3])])\n",
        "\n",
        "\n",
        "\n",
        "def test_unique_columns():\n",
        "    mat1 = np.array([[1, 2, 3], [4, 5, 6], [1, 2, 3]])\n",
        "    assert np.array_equal(unique_columns(mat1), [np.array([1, 4]), np.array([2, 5]), np.array([3, 6])])\n",
        "    mat2 = np.array([])\n",
        "    assert np.array_equal(unique_columns(mat2), [])\n",
        "    mat3 = np.array([[1], [2], [3]])\n",
        "    assert np.array_equal(unique_columns(mat3), [np.array([1, 2, 3])])"
      ]
    },
    {
      "cell_type": "markdown",
      "metadata": {
        "id": "roYAlo4Jz-lH"
      },
      "source": [
        "<h1>Задача 4. Напишите функцию, которая заполняет матрицу с размерами $(m, n)$ случайными числами, распределенными по нормальному закону. Затем считает мат. ожидание и дисперсию для каждого из столбцов и строк, а также строит для каждой строки и столбца гистограмму значений (использовать функцию hist из модуля matplotlib.plot)"
      ]
    },
    {
      "cell_type": "code",
      "execution_count": 41,
      "metadata": {
        "id": "nZK_71hMSQzv"
      },
      "outputs": [],
      "source": [
        "import numpy as np\n",
        "import matplotlib.pyplot as plt\n",
        "\n",
        "def fill_matrix(m, n):\n",
        "    matrix = np.random.randn(m, n)\n",
        "    return matrix\n",
        "\n",
        "def calculate_stats(matrix):\n",
        "    row_means = np.mean(matrix, axis=1)\n",
        "    row_vars = np.var(matrix, axis=1)\n",
        "    col_means = np.mean(matrix, axis=0)\n",
        "    col_vars = np.var(matrix, axis=0)\n",
        "    return row_means, row_vars, col_means, col_vars\n",
        "\n",
        "def plot_histograms(matrix):\n",
        "    m, n = matrix.shape\n",
        "    fig, axes = plt.subplots(m, 2, figsize=(12, 2*m))\n",
        "\n",
        "    for i in range(m):\n",
        "        axes[i, 0].hist(matrix[i], bins=20, color='blue', alpha=0.5)\n",
        "        axes[i, 0].set_title(f'Row {i+1} Histogram')\n",
        "        axes[i, 1].hist(matrix[:, i], bins=20, color='red', alpha=0.5)\n",
        "        axes[i, 1].set_title(f'Column {i+1} Histogram')\n",
        "\n",
        "    plt.tight_layout()\n",
        "    plt.show()"
      ]
    },
    {
      "cell_type": "markdown",
      "metadata": {
        "id": "BDyATNdM0dJ2"
      },
      "source": [
        "<h1>Задача 5. Напишите функцию, которая заполняет матрицу $(m, n)$ в шахматном порядке заданными числами $a$ и $b$. Напишите тесты для кода"
      ]
    },
    {
      "cell_type": "code",
      "execution_count": 2,
      "metadata": {
        "id": "RWNJYWQGecS6"
      },
      "outputs": [],
      "source": [
        "def chess(m, n, a, b):\n",
        "\n",
        "  matrix = [[a if (i + j) % 2 == 0 else b for j in range(n)] for i in range(m)]\n",
        "  return matrix\n",
        "  \n",
        "def test_chess():\n",
        "    assert chess(2, 3, 1, 0) == [[1, 0, 1], [0, 1, 0]]\n",
        "    assert chess(3, 2, 2, 3) == [[2, 3], [3, 2], [2, 3]]\n",
        "    assert chess(1, 1, 5, 6) == [[5]]\n",
        "    assert chess(4, 4, 0, 1) == [[0, 1, 0, 1], [1, 0, 1, 0], [0, 1, 0, 1], [1, 0, 1, 0]]\n",
        "    assert chess(3, 3, 9, 8) == [[9, 8, 9], [8, 9, 8], [9, 8, 9]]\n",
        "    assert chess(2, 2, 4, 7) == [[4, 7], [7, 4]]"
      ]
    },
    {
      "cell_type": "markdown",
      "metadata": {
        "id": "-ymXLtTN0vB6"
      },
      "source": [
        "<h1>Задача 6. Напишите функцию, которая отрисовывает прямоугольник с заданными размерами (a, b) на изображении размера (m, n), цвет фона задайте в схеме RGB, как и цвет прямоугольника. Цвета также должны быть параметрами функции. Напишите аналогичную функцию но для овала с полуосями a и b. Напишите тесты для кода.\n",
        "Примечание: уравнение эллипса (границы овала) можно записать как:\n",
        "<h1>$\\frac{(x-x_0)^2}{a^2}+\\frac{(y-y_0)^2}{b^2}=1$"
      ]
    },
    {
      "cell_type": "code",
      "execution_count": 5,
      "metadata": {
        "id": "sNfl1t_kfOF4"
      },
      "outputs": [],
      "source": [
        "def draw_rectangle(a, b, m, n, rectangle_color, background_color):\n",
        "    image = np.ones((m, n, 3)) * background_color\n",
        "    x_range = np.arange(m)\n",
        "    y_range = np.arange(n)\n",
        "    xx, yy = np.meshgrid(x_range, y_range)\n",
        "    rectangle = ((xx < a) & (yy < b)).astype(int)\n",
        "    image[:,:] = background_color\n",
        "    image[:a,:b] = rectangle_color\n",
        "    plt.imshow(image)\n",
        "    plt.axis('off')\n",
        "    plt.show()\n",
        "\n",
        "def draw_ellipse(a, b, m, n, ellipse_color, background_color):\n",
        "    image = np.ones((m, n, 3)) * background_color\n",
        "    x_range = np.arange(m)\n",
        "    y_range = np.arange(n)\n",
        "    xx, yy = np.meshgrid(x_range, y_range)\n",
        "    ellipse = ((xx - m//2)**2 / a**2 + (yy - n//2)**2 / b**2 <= 1).astype(int)\n",
        "    image[:,:] = background_color\n",
        "    image[ellipse==1] = ellipse_color\n",
        "    plt.imshow(image)\n",
        "    plt.axis('off')\n",
        "    plt.show()"
      ]
    },
    {
      "cell_type": "markdown",
      "metadata": {
        "id": "S82c38oz244H"
      },
      "source": [
        "<h1>Задача 7. Дан некий временной ряд. Для данного ряда нужно найти его: математическое ожидание, дисперсию, СКО, найти все локальные максимумы и минимумы (локальный максимум - это точка, которая больше своих соседних точек, а локальный минимум - это точка, которая меньше своих соседей), а также вычислить для данного ряда другой ряд, получаемый методом скользящего среднего с размером окна $p$.\n",
        "<h1>Примечание: метод скользящего среднего подразумевает нахождение среднего из подмножетсва ряда размером $p$"
      ]
    },
    {
      "cell_type": "code",
      "execution_count": 21,
      "metadata": {
        "id": "Zb9mIVge5MMt"
      },
      "outputs": [],
      "source": [
        "def calculate_statistics(time_series):\n",
        "    mean = np.mean(time_series)\n",
        "    variance = np.var(time_series)\n",
        "    std_dev = np.std(time_series)\n",
        "    return mean, variance, std_dev\n",
        "\n",
        "def find_local_extremes(time_series):\n",
        "    local_maxima = []\n",
        "    local_minima = []\n",
        "    for i in range(1, len(time_series) - 1):\n",
        "        if time_series[i] > time_series[i-1] and time_series[i] > time_series[i+1]:\n",
        "            local_maxima.append(i)\n",
        "        elif time_series[i] < time_series[i-1] and time_series[i] < time_series[i+1]:\n",
        "            local_minima.append(i)\n",
        "    return local_maxima, local_minima\n",
        "\n",
        "def moving_average(time_series, window_size):\n",
        "    moving_avg = []\n",
        "    for i in range(len(time_series) - window_size + 1):\n",
        "        window = time_series[i:i+window_size]\n",
        "        avg = np.mean(window)\n",
        "        moving_avg.append(avg)\n",
        "    return moving_avg"
      ]
    },
    {
      "cell_type": "markdown",
      "metadata": {
        "id": "jPkylmOX5O9n"
      },
      "source": [
        "<h1> Задача 8. Дан некоторый вектор с целочисленными метками классов, напишите функцию, которая выполняет one-hot-encoding для данного вектора\n",
        "<h1> One-hot-encoding - представление, в котором на месте метки некоторого класса стоит 1, в остальных позициях стоит 0. Например для вектора [0, 2, 3, 0] one-hot-encoding выглядит как: [[1, 0, 0, 0], [0, 0, 1, 0], [0, 0, 0, 1], [1, 0, 0, 0]]"
      ]
    },
    {
      "cell_type": "code",
      "execution_count": 23,
      "metadata": {
        "id": "Y-jlnZvw56lD"
      },
      "outputs": [],
      "source": [
        "\n",
        "def one_hot_encoding(labels, num_classes):\n",
        "    encoded = np.zeros((len(labels), num_classes), dtype=int)\n",
        "    encoded[np.arange(len(labels)), labels] = 1\n",
        "    return encoded.tolist()\n"
      ]
    }
  ],
  "metadata": {
    "colab": {
      "provenance": []
    },
    "kernelspec": {
      "display_name": "Python 3",
      "name": "python3"
    },
    "language_info": {
      "codemirror_mode": {
        "name": "ipython",
        "version": 3
      },
      "file_extension": ".py",
      "mimetype": "text/x-python",
      "name": "python",
      "nbconvert_exporter": "python",
      "pygments_lexer": "ipython3",
      "version": "3.12.2"
    }
  },
  "nbformat": 4,
  "nbformat_minor": 0
}
