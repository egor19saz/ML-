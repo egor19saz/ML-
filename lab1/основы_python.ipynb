{
  "cells": [
    {
      "cell_type": "markdown",
      "metadata": {
        "id": "M-DGa20PaHnu"
      },
      "source": [
        "#Задача 1\n",
        "Написать функцию на вход которой подается строка, состоящая из латинских букв.\n",
        "Функция должна вернуть количество гласных букв (a, e, i, o, u) в этой строке. Написать тесты для кода"
      ]
    },
    {
      "cell_type": "code",
      "execution_count": 1,
      "metadata": {
        "id": "XvX8X_JJ6PCb"
      },
      "outputs": [],
      "source": [
        "def count_vowels(input_string):\n",
        "    vowels = 'aeiouAEIOU'\n",
        "    count = 0\n",
        "    for char in input_string:\n",
        "        if char in vowels:\n",
        "            count += 1\n",
        "    return count\n",
        "\n",
        "def test_count_vowels():\n",
        "    assert count_vowels(\"\") == 0    \n",
        "    assert count_vowels(\"qwr\") == 0\n",
        "    assert count_vowels(\"AEIOUaeiou\") == 10\n",
        "    assert count_vowels(\"hello world\") == 3\n",
        "    assert count_vowels(\"Hello World\") == 3"
      ]
    },
    {
      "cell_type": "markdown",
      "metadata": {
        "id": "t2ClV_Y0bbr6"
      },
      "source": [
        "# Задача 2\n",
        "Написать функцию на вход, которой подается строка. Функция должна вернуть true, если\n",
        "каждый символ в строке встречается только 1 раз, иначе должна вернуть false. Написать тесты для кода"
      ]
    },
    {
      "cell_type": "code",
      "execution_count": 2,
      "metadata": {
        "id": "FppbECao6VIz"
      },
      "outputs": [],
      "source": [
        "def is_unique_chars(string):\n",
        "  char_set = set()\n",
        "  for char in string:\n",
        "    if char in char_set:\n",
        "      return False\n",
        "    char_set.add(char)\n",
        "  return True\n",
        "\n",
        "def test_is_unique_chars():\n",
        "    assert is_unique_chars(\"qwerty\") == True\n",
        "    assert is_unique_chars(\"hello\") == False\n",
        "    assert is_unique_chars(\"\") == True\n",
        "    assert is_unique_chars(\"q\") == True\n",
        "    assert is_unique_chars(\"Abcdefg\") == True\n",
        "    assert is_unique_chars(\"123!@#abc\") == True"
      ]
    },
    {
      "cell_type": "markdown",
      "metadata": {
        "id": "udRiIK1cdt6E"
      },
      "source": [
        "# Задача 3\n",
        "Написать функцию, которая принимает положительное число и возвращает количество\n",
        "бит равных 1 в этом числе. Написать тесты для кода"
      ]
    },
    {
      "cell_type": "code",
      "execution_count": 3,
      "metadata": {
        "id": "6tkfDJRz6dp_"
      },
      "outputs": [],
      "source": [
        "def count_set_bits(num):\n",
        "    count = 0\n",
        "    while num:\n",
        "        count += num & 1\n",
        "        num >>= 1\n",
        "    return count \n",
        "\n",
        "def test_count_set_bits():\n",
        "    assert count_set_bits(0) == 0\n",
        "    assert count_set_bits(1) == 1\n",
        "    assert count_set_bits(10) == 2  \n",
        "    assert count_set_bits(2**32 - 1) == 32\n",
        "    assert count_set_bits(-10) == 31 "
      ]
    },
    {
      "cell_type": "markdown",
      "metadata": {
        "id": "26dDUz-Ae17N"
      },
      "source": [
        "# Задача 4\n",
        "Написать функцию, которая принимает положительное число. Функция должна вернуть то,\n",
        "сколько раз необходимо перемножать цифры числа или результат перемножения, чтобы\n",
        "получилось число состоящее из одной цифры.\n",
        "Например, для входного числа:\n",
        "· 39 функция должна вернуть 3, так как 3*9=27 => 2*7=14 => 1*4=4\n",
        "· 4 функция должна вернуть 0, так как число уже состоит из одной цифры\n",
        "· 999 функция должна вернуть 4, так как 9*9*9=729 => 7*2*9=126 => 1*2*6=12 =>\n",
        "1*2=2. Написать тесты для кода"
      ]
    },
    {
      "cell_type": "code",
      "execution_count": 9,
      "metadata": {
        "id": "BH1A_Mgi6i4G"
      },
      "outputs": [],
      "source": [
        "def magic(n):\n",
        "    count = 0\n",
        "    while n >= 10:\n",
        "        num_str = str(n)\n",
        "        product = 1\n",
        "        for digit in num_str:\n",
        "            product *= int(digit)\n",
        "        count += 1\n",
        "        n = product\n",
        "    return count\n",
        "\n",
        "def test_magic():\n",
        "    assert magic(1) == 0\n",
        "    assert magic(5) == 0\n",
        "    assert magic(12) == 1\n",
        "    assert magic(123) == 2\n",
        "    assert magic(123456789) == 4\n",
        "    assert magic(0) == 0\n"
      ]
    },
    {
      "cell_type": "markdown",
      "metadata": {
        "id": "0nS-kIa8g8vd"
      },
      "source": [
        "# Задача 5\n",
        "Написать функцию, которая принимает два целочисленных вектора одинаковой длины и\n",
        "возвращает среднеквадратическое отклонение двух векторов. Написать тесты для кода"
      ]
    },
    {
      "cell_type": "code",
      "execution_count": 5,
      "metadata": {
        "id": "8iphx4LM6xbx"
      },
      "outputs": [],
      "source": [
        "def mse(pred, true):\n",
        "  if len(pred) != len(true):\n",
        "    raise ValueError()\n",
        "  \n",
        "  sum_of_squares = 0\n",
        "  for i in range(len(pred)):\n",
        "    diff = pred[i] - true[i]\n",
        "    sum_of_squares += diff * diff\n",
        "  \n",
        "  return sum_of_squares / len(pred)\n",
        "\n",
        "def test_mse():\n",
        "  assert mse([1, 2, 3], [1, 2, 3]) == 0\n",
        "  assert mse([1.0, 2.0, 3.0], [1.01, 2.01, 3.01]) < 0.01\n",
        "  assert mse([1, 2, 3], [4, 5, 6]) == 9\n",
        "  assert mse([], []) == 0"
      ]
    },
    {
      "cell_type": "markdown",
      "metadata": {
        "id": "vpIPKL439zkw"
      },
      "source": [
        "# Задача 6\n",
        "Написать функцию, принимающая целое положительное число. Функция должна вернуть\n",
        "строку вида “(n1**p1)(n2**p2)…(nk**pk)” представляющая разложение числа на простые\n",
        "множители (если pi == 1, то выводить только ni).\n",
        "Например, для числа 86240 функция должна вернуть “(2**5)(5)(7**2)(11)”. Написать тесты для кода"
      ]
    },
    {
      "cell_type": "code",
      "execution_count": 10,
      "metadata": {
        "id": "pFebmcZk94Jw"
      },
      "outputs": [],
      "source": [
        "def prime_factorization(n):\n",
        "    factors = []\n",
        "    for i in range(2, int(n ** 0.5) + 1):\n",
        "        exponent = 0\n",
        "        while n % i == 0:\n",
        "            exponent += 1\n",
        "            n //= i\n",
        "        if exponent:\n",
        "            factors.append((i, exponent))\n",
        "\n",
        "    if n > 1:\n",
        "        factors.append((n, 1))\n",
        "\n",
        "    result = \"\"\n",
        "    for factor, exponent in factors:\n",
        "        if exponent == 1:\n",
        "            result += f\"({factor})\"\n",
        "        else:\n",
        "            result += f\"({factor}**{exponent})\"\n",
        "\n",
        "    return result\n",
        "\n",
        "def test_prime_factorization():\n",
        "    assert prime_factorization(1) == \"\"\n",
        "    assert prime_factorization(17) == \"(17)\"\n",
        "    assert prime_factorization(24) == \"(2**3)(3)\"\n",
        "    assert prime_factorization(999) == \"(3**3)(37)\"\n",
        "    assert prime_factorization(144) == \"(2**4)(3**2)\"\n",
        "    assert prime_factorization(100) == \"(2**2)(5**2)\"\n",
        "    assert prime_factorization(2**10) == \"(2**10)\"\n"
      ]
    },
    {
      "cell_type": "markdown",
      "metadata": {
        "id": "ps2s0BudX7A2"
      },
      "source": [
        "# Задача 7\n",
        "Написать функцию, принимающая целое число n, задающее количество кубиков. Функция\n",
        "должна определить, можно ли из данного кол-ва кубиков построить пирамиду, то есть\n",
        "можно ли представить число n как 1^2+2^2+3^2+…+k^2. Если можно, то функция должна\n",
        "вернуть k, иначе строку “It is impossible”. Написать тесты для кода"
      ]
    },
    {
      "cell_type": "code",
      "execution_count": 7,
      "metadata": {
        "id": "3YPjEXxhX_YT"
      },
      "outputs": [],
      "source": [
        "def pyramid(number):\n",
        "    total = 0\n",
        "    k = 1\n",
        "    while total < n:\n",
        "        total += k ** 2\n",
        "        if total == n:\n",
        "            return k\n",
        "        k += 1\n",
        "    return \"It is impossible\"\n",
        "\n",
        "def test_pyramid():\n",
        "    assert pyramid(1) == 1   \n",
        "    assert pyramid(5) == \"It is impossible\"    \n",
        "    assert pyramid(14) == 3    \n",
        "    assert pyramid(30) == \"It is impossible\"   \n",
        "    assert pyramid(8) == \"It is impossible\"  \n",
        "    assert pyramid(55) == 5"
      ]
    },
    {
      "cell_type": "markdown",
      "metadata": {
        "id": "KeKgmIdAQMEJ"
      },
      "source": [
        "# Задача 8\n",
        "Функция принимает на вход положительное число и определяет является ли оно сбалансированным, т.е. сумма цифр до средних равна сумме цифр после. Средними в случае нечетного числа цифр считать одну цифру, в случае четного - две средних. Написать тесты для кода"
      ]
    },
    {
      "cell_type": "code",
      "execution_count": 8,
      "metadata": {
        "id": "gMAAqtqlQrZt"
      },
      "outputs": [],
      "source": [
        "def is_balanced_number(number):\n",
        "    num_str = str(number)\n",
        "    length = len(num_str)\n",
        "    \n",
        "    if length == 1:\n",
        "        return True\n",
        "    \n",
        "    if length % 2 == 0:\n",
        "        mid1 = length // 2 - 1\n",
        "        mid2 = length // 2\n",
        "    else:\n",
        "        mid1 = mid2 = length // 2\n",
        "    \n",
        "    sum_before = sum(map(int, num_str[:mid1]))\n",
        "    sum_after = sum(map(int, num_str[mid2 + 1:]))\n",
        "    \n",
        "    return sum_before == sum_after\n",
        "\n",
        "def test_is_balanced_number():\n",
        "    assert is_balanced_number(1) == True\n",
        "    assert is_balanced_number(11) == True\n",
        "    assert is_balanced_number(121) == True\n",
        "    assert is_balanced_number(12321) == True\n",
        "    assert is_balanced_number(123) == False\n",
        "    assert is_balanced_number(12345) == False"
      ]
    }
  ],
  "metadata": {
    "colab": {
      "provenance": []
    },
    "kernelspec": {
      "display_name": "Python 3",
      "name": "python3"
    },
    "language_info": {
      "codemirror_mode": {
        "name": "ipython",
        "version": 3
      },
      "file_extension": ".py",
      "mimetype": "text/x-python",
      "name": "python",
      "nbconvert_exporter": "python",
      "pygments_lexer": "ipython3",
      "version": "3.11.5"
    }
  },
  "nbformat": 4,
  "nbformat_minor": 0
}
